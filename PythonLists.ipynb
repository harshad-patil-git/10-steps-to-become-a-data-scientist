{
  "nbformat": 4,
  "nbformat_minor": 0,
  "metadata": {
    "colab": {
      "name": "PythonLists.ipynb",
      "provenance": [],
      "authorship_tag": "ABX9TyP+JLwrScTgHQBJu9s51AYU"
    },
    "kernelspec": {
      "name": "python3",
      "display_name": "Python 3"
    }
  },
  "cells": [
    {
      "cell_type": "code",
      "metadata": {
        "id": "E8HIKdGwnAtY",
        "colab_type": "code",
        "colab": {}
      },
      "source": [
        "# My scores in Physics, Chemistry, Maths & Biology in HSC \n",
        "marks = [96,94,95,67]"
      ],
      "execution_count": 4,
      "outputs": []
    },
    {
      "cell_type": "code",
      "metadata": {
        "id": "dPslxjmxndov",
        "colab_type": "code",
        "colab": {}
      },
      "source": [
        "# Games I have played in my childhood\n",
        "games = ['Road Rash', 'Medal of Honour', 'Call fo Duty', 'FIFA', 'Age of Mythology', 'Total Club Manager']"
      ],
      "execution_count": 5,
      "outputs": []
    },
    {
      "cell_type": "code",
      "metadata": {
        "id": "FcAgaSDpn887",
        "colab_type": "code",
        "colab": {}
      },
      "source": [
        "# Fruits I like the most\n",
        "fruits = ['Mango','Watermelon','Orange','Apple']"
      ],
      "execution_count": 6,
      "outputs": []
    },
    {
      "cell_type": "code",
      "metadata": {
        "id": "qW33OU50oXNs",
        "colab_type": "code",
        "colab": {
          "base_uri": "https://localhost:8080/",
          "height": 87
        },
        "outputId": "8af21a48-18ec-4680-9bb2-61a261a75d71"
      },
      "source": [
        "for m in marks:\n",
        "  print(m) "
      ],
      "execution_count": 10,
      "outputs": [
        {
          "output_type": "stream",
          "text": [
            "96\n",
            "94\n",
            "95\n",
            "67\n"
          ],
          "name": "stdout"
        }
      ]
    },
    {
      "cell_type": "code",
      "metadata": {
        "id": "H10Gf8a6ovku",
        "colab_type": "code",
        "colab": {
          "base_uri": "https://localhost:8080/",
          "height": 121
        },
        "outputId": "0ccd053c-8887-4c69-ff3f-1b3418f5a8d3"
      },
      "source": [
        "for g in games:\n",
        "  print(g)"
      ],
      "execution_count": 12,
      "outputs": [
        {
          "output_type": "stream",
          "text": [
            "Road Rash\n",
            "Medal of Honour\n",
            "Call fo Duty\n",
            "FIFA\n",
            "Age of Mythology\n",
            "Total Club Manager\n"
          ],
          "name": "stdout"
        }
      ]
    },
    {
      "cell_type": "code",
      "metadata": {
        "id": "WpfbzVKlpOSQ",
        "colab_type": "code",
        "colab": {
          "base_uri": "https://localhost:8080/",
          "height": 35
        },
        "outputId": "387ab5aa-317b-4087-f8d9-9ac9c9e0400c"
      },
      "source": [
        "len(fruits)"
      ],
      "execution_count": 13,
      "outputs": [
        {
          "output_type": "execute_result",
          "data": {
            "text/plain": [
              "4"
            ]
          },
          "metadata": {
            "tags": []
          },
          "execution_count": 13
        }
      ]
    },
    {
      "cell_type": "code",
      "metadata": {
        "id": "cST2TJiMpVW4",
        "colab_type": "code",
        "colab": {
          "base_uri": "https://localhost:8080/",
          "height": 35
        },
        "outputId": "bb309526-4f32-4fd8-f638-22f9bc0918f2"
      },
      "source": [
        "len(games)"
      ],
      "execution_count": 14,
      "outputs": [
        {
          "output_type": "execute_result",
          "data": {
            "text/plain": [
              "6"
            ]
          },
          "metadata": {
            "tags": []
          },
          "execution_count": 14
        }
      ]
    },
    {
      "cell_type": "code",
      "metadata": {
        "id": "2qYeRqr5pYPD",
        "colab_type": "code",
        "colab": {
          "base_uri": "https://localhost:8080/",
          "height": 35
        },
        "outputId": "d7bb8cc2-19a1-488d-bb82-9da375abe5c3"
      },
      "source": [
        "fruits[0:2]"
      ],
      "execution_count": 15,
      "outputs": [
        {
          "output_type": "execute_result",
          "data": {
            "text/plain": [
              "['Mango', 'Watermelon']"
            ]
          },
          "metadata": {
            "tags": []
          },
          "execution_count": 15
        }
      ]
    },
    {
      "cell_type": "code",
      "metadata": {
        "id": "P-n7PFW4pgTC",
        "colab_type": "code",
        "colab": {}
      },
      "source": [
        "fruits.append('Banana')"
      ],
      "execution_count": 16,
      "outputs": []
    },
    {
      "cell_type": "code",
      "metadata": {
        "id": "1kCZG8vXpkyb",
        "colab_type": "code",
        "colab": {
          "base_uri": "https://localhost:8080/",
          "height": 35
        },
        "outputId": "b856cf25-5995-4a8e-b11a-dd320837cd3d"
      },
      "source": [
        "fruits"
      ],
      "execution_count": 17,
      "outputs": [
        {
          "output_type": "execute_result",
          "data": {
            "text/plain": [
              "['Mango', 'Watermelon', 'Orange', 'Apple', 'Banana']"
            ]
          },
          "metadata": {
            "tags": []
          },
          "execution_count": 17
        }
      ]
    },
    {
      "cell_type": "code",
      "metadata": {
        "id": "KnHXsNEfpler",
        "colab_type": "code",
        "colab": {}
      },
      "source": [
        "fruits.sort()"
      ],
      "execution_count": 18,
      "outputs": []
    },
    {
      "cell_type": "code",
      "metadata": {
        "id": "7GloSu5fpp_W",
        "colab_type": "code",
        "colab": {
          "base_uri": "https://localhost:8080/",
          "height": 35
        },
        "outputId": "515df5b4-39a8-4f02-c2f4-cd270fbb2a4d"
      },
      "source": [
        "fruits"
      ],
      "execution_count": 19,
      "outputs": [
        {
          "output_type": "execute_result",
          "data": {
            "text/plain": [
              "['Apple', 'Banana', 'Mango', 'Orange', 'Watermelon']"
            ]
          },
          "metadata": {
            "tags": []
          },
          "execution_count": 19
        }
      ]
    },
    {
      "cell_type": "code",
      "metadata": {
        "id": "JwESauICpqp4",
        "colab_type": "code",
        "colab": {
          "base_uri": "https://localhost:8080/",
          "height": 35
        },
        "outputId": "93242aca-27c7-4093-d4fa-a359c97ad8c0"
      },
      "source": [
        "fruits.index('Mango')"
      ],
      "execution_count": 20,
      "outputs": [
        {
          "output_type": "execute_result",
          "data": {
            "text/plain": [
              "2"
            ]
          },
          "metadata": {
            "tags": []
          },
          "execution_count": 20
        }
      ]
    },
    {
      "cell_type": "code",
      "metadata": {
        "id": "SfBDXFABp4jZ",
        "colab_type": "code",
        "colab": {}
      },
      "source": [
        "fruits_copy = fruits.copy()"
      ],
      "execution_count": 21,
      "outputs": []
    },
    {
      "cell_type": "code",
      "metadata": {
        "id": "KFlkStKap-Ms",
        "colab_type": "code",
        "colab": {
          "base_uri": "https://localhost:8080/",
          "height": 35
        },
        "outputId": "5f98a894-164f-4a3a-c019-f5e4d3102eb7"
      },
      "source": [
        "fruits_copy"
      ],
      "execution_count": 22,
      "outputs": [
        {
          "output_type": "execute_result",
          "data": {
            "text/plain": [
              "['Apple', 'Banana', 'Mango', 'Orange', 'Watermelon']"
            ]
          },
          "metadata": {
            "tags": []
          },
          "execution_count": 22
        }
      ]
    },
    {
      "cell_type": "code",
      "metadata": {
        "id": "nqHEKDmaqAZf",
        "colab_type": "code",
        "colab": {}
      },
      "source": [
        "fruits.reverse()"
      ],
      "execution_count": 23,
      "outputs": []
    },
    {
      "cell_type": "code",
      "metadata": {
        "id": "a1a-5f7UqFwM",
        "colab_type": "code",
        "colab": {
          "base_uri": "https://localhost:8080/",
          "height": 35
        },
        "outputId": "6012cebb-191d-4ad5-91b0-8aa9079bed0a"
      },
      "source": [
        "fruits"
      ],
      "execution_count": 24,
      "outputs": [
        {
          "output_type": "execute_result",
          "data": {
            "text/plain": [
              "['Watermelon', 'Orange', 'Mango', 'Banana', 'Apple']"
            ]
          },
          "metadata": {
            "tags": []
          },
          "execution_count": 24
        }
      ]
    },
    {
      "cell_type": "code",
      "metadata": {
        "id": "q5xRvCooqGo0",
        "colab_type": "code",
        "colab": {
          "base_uri": "https://localhost:8080/",
          "height": 35
        },
        "outputId": "3ea1ca76-aa7a-46f8-f8ce-d441f8d29eb0"
      },
      "source": [
        "fruits.pop(1)"
      ],
      "execution_count": 26,
      "outputs": [
        {
          "output_type": "execute_result",
          "data": {
            "application/vnd.google.colaboratory.intrinsic": {
              "type": "string"
            },
            "text/plain": [
              "'Orange'"
            ]
          },
          "metadata": {
            "tags": []
          },
          "execution_count": 26
        }
      ]
    },
    {
      "cell_type": "code",
      "metadata": {
        "id": "GGBA0_VKqTZS",
        "colab_type": "code",
        "colab": {
          "base_uri": "https://localhost:8080/",
          "height": 35
        },
        "outputId": "e5944d42-df4b-4a13-d5b3-7ce8580e24ec"
      },
      "source": [
        "fruits"
      ],
      "execution_count": 27,
      "outputs": [
        {
          "output_type": "execute_result",
          "data": {
            "text/plain": [
              "['Watermelon', 'Mango', 'Banana', 'Apple']"
            ]
          },
          "metadata": {
            "tags": []
          },
          "execution_count": 27
        }
      ]
    },
    {
      "cell_type": "code",
      "metadata": {
        "id": "XAAZB2SNqWVv",
        "colab_type": "code",
        "colab": {}
      },
      "source": [
        "fruits.remove('Watermelon')"
      ],
      "execution_count": 28,
      "outputs": []
    },
    {
      "cell_type": "code",
      "metadata": {
        "id": "3nnu_DrTqdTr",
        "colab_type": "code",
        "colab": {
          "base_uri": "https://localhost:8080/",
          "height": 35
        },
        "outputId": "3422335b-3ce8-49fd-f131-656e83890858"
      },
      "source": [
        "fruits"
      ],
      "execution_count": 29,
      "outputs": [
        {
          "output_type": "execute_result",
          "data": {
            "text/plain": [
              "['Mango', 'Banana', 'Apple']"
            ]
          },
          "metadata": {
            "tags": []
          },
          "execution_count": 29
        }
      ]
    },
    {
      "cell_type": "code",
      "metadata": {
        "id": "M4NvlVSKqd90",
        "colab_type": "code",
        "colab": {}
      },
      "source": [
        "fruits.insert(0,'Grapes')"
      ],
      "execution_count": 31,
      "outputs": []
    },
    {
      "cell_type": "code",
      "metadata": {
        "id": "yX802svdqp8Y",
        "colab_type": "code",
        "colab": {
          "base_uri": "https://localhost:8080/",
          "height": 35
        },
        "outputId": "226e7b04-fc9e-421c-da24-79734dfcfc44"
      },
      "source": [
        "fruits"
      ],
      "execution_count": 32,
      "outputs": [
        {
          "output_type": "execute_result",
          "data": {
            "text/plain": [
              "['Grapes', 'Mango', 'Banana', 'Apple']"
            ]
          },
          "metadata": {
            "tags": []
          },
          "execution_count": 32
        }
      ]
    },
    {
      "cell_type": "code",
      "metadata": {
        "id": "Yi_M3RR_qs-a",
        "colab_type": "code",
        "colab": {
          "base_uri": "https://localhost:8080/",
          "height": 35
        },
        "outputId": "cf7ca160-38a8-4124-91e3-36054cae164a"
      },
      "source": [
        "fruits[-1]"
      ],
      "execution_count": 33,
      "outputs": [
        {
          "output_type": "execute_result",
          "data": {
            "application/vnd.google.colaboratory.intrinsic": {
              "type": "string"
            },
            "text/plain": [
              "'Apple'"
            ]
          },
          "metadata": {
            "tags": []
          },
          "execution_count": 33
        }
      ]
    },
    {
      "cell_type": "code",
      "metadata": {
        "id": "wx-4pzObqz0n",
        "colab_type": "code",
        "colab": {
          "base_uri": "https://localhost:8080/",
          "height": 35
        },
        "outputId": "218ed3d5-450d-42f5-97fc-b9d1a79c1dea"
      },
      "source": [
        "fruits[-2]"
      ],
      "execution_count": 34,
      "outputs": [
        {
          "output_type": "execute_result",
          "data": {
            "application/vnd.google.colaboratory.intrinsic": {
              "type": "string"
            },
            "text/plain": [
              "'Banana'"
            ]
          },
          "metadata": {
            "tags": []
          },
          "execution_count": 34
        }
      ]
    },
    {
      "cell_type": "code",
      "metadata": {
        "id": "raRGXFjkq0_j",
        "colab_type": "code",
        "colab": {}
      },
      "source": [
        "fruits.clear()"
      ],
      "execution_count": 35,
      "outputs": []
    },
    {
      "cell_type": "code",
      "metadata": {
        "id": "lGgxixWxrCD6",
        "colab_type": "code",
        "colab": {
          "base_uri": "https://localhost:8080/",
          "height": 35
        },
        "outputId": "5427a7b0-4516-4995-8fa2-d0caae1c10f5"
      },
      "source": [
        "fruits"
      ],
      "execution_count": 36,
      "outputs": [
        {
          "output_type": "execute_result",
          "data": {
            "text/plain": [
              "[]"
            ]
          },
          "metadata": {
            "tags": []
          },
          "execution_count": 36
        }
      ]
    },
    {
      "cell_type": "code",
      "metadata": {
        "id": "fGXHrSk_rCnR",
        "colab_type": "code",
        "colab": {}
      },
      "source": [
        "new_games = ['Train Simulator', 'WWE']"
      ],
      "execution_count": 37,
      "outputs": []
    },
    {
      "cell_type": "code",
      "metadata": {
        "id": "Ujy0UgsMrde-",
        "colab_type": "code",
        "colab": {}
      },
      "source": [
        "games.extend(new_games)"
      ],
      "execution_count": 38,
      "outputs": []
    },
    {
      "cell_type": "code",
      "metadata": {
        "id": "efE2M3_9rhoJ",
        "colab_type": "code",
        "colab": {
          "base_uri": "https://localhost:8080/",
          "height": 156
        },
        "outputId": "685cd86a-7beb-4b8f-a49e-fd100b3b2974"
      },
      "source": [
        "games"
      ],
      "execution_count": 39,
      "outputs": [
        {
          "output_type": "execute_result",
          "data": {
            "text/plain": [
              "['Road Rash',\n",
              " 'Medal of Honour',\n",
              " 'Call fo Duty',\n",
              " 'FIFA',\n",
              " 'Age of Mythology',\n",
              " 'Total Club Manager',\n",
              " 'Train Simulator',\n",
              " 'WWE']"
            ]
          },
          "metadata": {
            "tags": []
          },
          "execution_count": 39
        }
      ]
    },
    {
      "cell_type": "code",
      "metadata": {
        "id": "9ommOjI2riJd",
        "colab_type": "code",
        "colab": {}
      },
      "source": [
        "games.sort()"
      ],
      "execution_count": 41,
      "outputs": []
    },
    {
      "cell_type": "code",
      "metadata": {
        "id": "YXQCLnihrolM",
        "colab_type": "code",
        "colab": {
          "base_uri": "https://localhost:8080/",
          "height": 156
        },
        "outputId": "f0734ad1-16dd-4d77-a0cd-a616de5f1826"
      },
      "source": [
        "for g in games:\n",
        "  print(g, ' ', len(g))"
      ],
      "execution_count": 42,
      "outputs": [
        {
          "output_type": "stream",
          "text": [
            "Age of Mythology   16\n",
            "Call fo Duty   12\n",
            "FIFA   4\n",
            "Medal of Honour   15\n",
            "Road Rash   9\n",
            "Total Club Manager   18\n",
            "Train Simulator   15\n",
            "WWE   3\n"
          ],
          "name": "stdout"
        }
      ]
    },
    {
      "cell_type": "code",
      "metadata": {
        "id": "79rmkyMmsPh1",
        "colab_type": "code",
        "colab": {}
      },
      "source": [
        "u_games = []\n",
        "for g in games:\n",
        "  u_games.append(g.upper())"
      ],
      "execution_count": 46,
      "outputs": []
    },
    {
      "cell_type": "code",
      "metadata": {
        "id": "4kzxhD72sncr",
        "colab_type": "code",
        "colab": {
          "base_uri": "https://localhost:8080/",
          "height": 156
        },
        "outputId": "187d2b8f-d549-4212-bb85-11d4cb034c6c"
      },
      "source": [
        "u_games"
      ],
      "execution_count": 47,
      "outputs": [
        {
          "output_type": "execute_result",
          "data": {
            "text/plain": [
              "['AGE OF MYTHOLOGY',\n",
              " 'CALL FO DUTY',\n",
              " 'FIFA',\n",
              " 'MEDAL OF HONOUR',\n",
              " 'ROAD RASH',\n",
              " 'TOTAL CLUB MANAGER',\n",
              " 'TRAIN SIMULATOR',\n",
              " 'WWE']"
            ]
          },
          "metadata": {
            "tags": []
          },
          "execution_count": 47
        }
      ]
    },
    {
      "cell_type": "code",
      "metadata": {
        "id": "uKESR42lswZs",
        "colab_type": "code",
        "colab": {}
      },
      "source": [
        ""
      ],
      "execution_count": null,
      "outputs": []
    }
  ]
}